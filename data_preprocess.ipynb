{
 "cells": [
  {
   "cell_type": "code",
   "execution_count": 1,
   "metadata": {},
   "outputs": [
    {
     "name": "stdout",
     "output_type": "stream",
     "text": [
      "[Executed on 2024-01-17 14:11:15.329543]\n"
     ]
    }
   ],
   "source": [
    "import scanpy as sc\n",
    "import pandas as pd"
   ]
  },
  {
   "cell_type": "code",
   "execution_count": 2,
   "metadata": {},
   "outputs": [
    {
     "name": "stdout",
     "output_type": "stream",
     "text": [
      "[Executed on 2024-01-17 14:19:21.956669]\n"
     ]
    },
    {
     "name": "stderr",
     "output_type": "stream",
     "text": [
      "/proj/sensoryaging/.conda/env/Kelly/lib/python3.11/site-packages/anndata/_core/anndata.py:1897: UserWarning: Observation names are not unique. To make them unique, call `.obs_names_make_unique`.\n",
      "  utils.warn_names_duplicates(\"obs\")\n"
     ]
    },
    {
     "data": {
      "text/plain": [
       "AnnData object with n_obs × n_vars = 50661 × 376"
      ]
     },
     "execution_count": 2,
     "metadata": {},
     "output_type": "execute_result"
    }
   ],
   "source": [
    "adata_mrna=sc.read_csv('/proj/sensoryaging/OC/TCGA-OV-FPKM.symbol.csv')\n",
    "adata_mrna"
   ]
  },
  {
   "cell_type": "code",
   "execution_count": 3,
   "metadata": {},
   "outputs": [
    {
     "name": "stdout",
     "output_type": "stream",
     "text": [
      "[Executed on 2024-01-17 14:19:45.364996]\n"
     ]
    },
    {
     "name": "stderr",
     "output_type": "stream",
     "text": [
      "/proj/sensoryaging/.conda/env/Kelly/lib/python3.11/site-packages/anndata/_core/anndata.py:1899: UserWarning: Variable names are not unique. To make them unique, call `.var_names_make_unique`.\n",
      "  utils.warn_names_duplicates(\"var\")\n"
     ]
    },
    {
     "data": {
      "text/plain": [
       "AnnData object with n_obs × n_vars = 376 × 50661"
      ]
     },
     "execution_count": 3,
     "metadata": {},
     "output_type": "execute_result"
    }
   ],
   "source": [
    "adata_mrna=adata_mrna.transpose()\n",
    "adata_mrna"
   ]
  },
  {
   "cell_type": "code",
   "execution_count": 6,
   "metadata": {},
   "outputs": [
    {
     "name": "stdout",
     "output_type": "stream",
     "text": [
      "[Executed on 2024-01-17 14:21:23.812002]\n"
     ]
    },
    {
     "data": {
      "text/plain": [
       "AnnData object with n_obs × n_vars = 376 × 50661"
      ]
     },
     "execution_count": 6,
     "metadata": {},
     "output_type": "execute_result"
    }
   ],
   "source": [
    "adata_mrna.write_csvs('/proj/sensoryaging/OC/TCGA-OV_clinical.csv')\n",
    "adata_mrna"
   ]
  },
  {
   "cell_type": "code",
   "execution_count": 20,
   "metadata": {},
   "outputs": [
    {
     "name": "stdout",
     "output_type": "stream",
     "text": [
      "[Executed on 2024-01-17 14:26:10.452366]\n"
     ]
    },
    {
     "data": {
      "text/plain": [
       "Index(['TCGA-23-1122', 'TCGA-04-1365', 'TCGA-24-1847', 'TCGA-24-2033',\n",
       "       'TCGA-09-2056', 'TCGA-23-1027', 'TCGA-13-0804', 'TCGA-23-1113',\n",
       "       'TCGA-24-1428', 'TCGA-30-1853',\n",
       "       ...\n",
       "       'TCGA-13-1485', 'TCGA-25-1630', 'TCGA-13-0768', 'TCGA-29-1762',\n",
       "       'TCGA-61-2113', 'TCGA-20-0991', 'TCGA-25-2400', 'TCGA-25-1319',\n",
       "       'TCGA-24-1104', 'TCGA-23-1120'],\n",
       "      dtype='object', length=376)"
      ]
     },
     "execution_count": 20,
     "metadata": {},
     "output_type": "execute_result"
    }
   ],
   "source": [
    "adata_mrna.obs_names"
   ]
  },
  {
   "cell_type": "code",
   "execution_count": 14,
   "metadata": {},
   "outputs": [
    {
     "name": "stdout",
     "output_type": "stream",
     "text": [
      "[Executed on 2024-01-17 14:24:57.081363]\n"
     ]
    },
    {
     "data": {
      "text/plain": [
       "AnnData object with n_obs × n_vars = 376 × 15"
      ]
     },
     "execution_count": 14,
     "metadata": {},
     "output_type": "execute_result"
    }
   ],
   "source": [
    "adata_clinical=sc.read_csv('/proj/sensoryaging/OC/TCGA-OV_clinical.csv',dtype=str)\n",
    "adata_clinical"
   ]
  },
  {
   "cell_type": "code",
   "execution_count": 34,
   "metadata": {},
   "outputs": [
    {
     "name": "stdout",
     "output_type": "stream",
     "text": [
      "[Executed on 2024-01-17 14:35:40.581709]\n"
     ]
    },
    {
     "data": {
      "text/plain": [
       "AnnData object with n_obs × n_vars = 376 × 15"
      ]
     },
     "execution_count": 34,
     "metadata": {},
     "output_type": "execute_result"
    }
   ],
   "source": [
    "adata_clinical=adata_clinical.transpose()\n",
    "adata_clinical"
   ]
  },
  {
   "cell_type": "code",
   "execution_count": 52,
   "metadata": {},
   "outputs": [
    {
     "name": "stdout",
     "output_type": "stream",
     "text": [
      "[Executed on 2024-01-17 14:47:24.410756]\n"
     ]
    }
   ],
   "source": [
    "for var_name in adata_clinical.var_names:\n",
    "    var_values = adata_clinical[:, var_name].X.toarray().flatten() \n",
    "    adata_mrna.obs[var_name] = var_values\n"
   ]
  },
  {
   "cell_type": "code",
   "execution_count": 53,
   "metadata": {},
   "outputs": [
    {
     "name": "stdout",
     "output_type": "stream",
     "text": [
      "[Executed on 2024-01-17 14:47:27.829323]\n"
     ]
    },
    {
     "data": {
      "text/plain": [
       "AnnData object with n_obs × n_vars = 376 × 50661\n",
       "    obs: 'patient.age_at_initial_pathologic_diagnosis', 'patient.anatomic_neoplasm_subdivision', 'patient.days_to_death', 'patient.drugs.drug.therapy_types.therapy_type', 'patient.follow_ups.follow_up.person_neoplasm_cancer_status', 'patient.follow_ups.follow_up.radiation_therapy', 'patient.follow_ups.follow_up.vital_status', 'patient.initial_pathologic_diagnosis_method', 'patient.karnofsky_performance_score', 'patient.neoplasm_histologic_grade', 'patient.person_neoplasm_cancer_status', 'patient.race_list.race', 'patient.stage_event.clinical_stage', 'patient.tumor_residual_disease', 'patient.vital_status'"
      ]
     },
     "execution_count": 53,
     "metadata": {},
     "output_type": "execute_result"
    }
   ],
   "source": [
    "adata_mrna"
   ]
  },
  {
   "cell_type": "code",
   "execution_count": 54,
   "metadata": {},
   "outputs": [
    {
     "name": "stdout",
     "output_type": "stream",
     "text": [
      "[Executed on 2024-01-17 14:47:37.717857]\n"
     ]
    },
    {
     "data": {
      "text/html": [
       "<div>\n",
       "<style scoped>\n",
       "    .dataframe tbody tr th:only-of-type {\n",
       "        vertical-align: middle;\n",
       "    }\n",
       "\n",
       "    .dataframe tbody tr th {\n",
       "        vertical-align: top;\n",
       "    }\n",
       "\n",
       "    .dataframe thead th {\n",
       "        text-align: right;\n",
       "    }\n",
       "</style>\n",
       "<table border=\"1\" class=\"dataframe\">\n",
       "  <thead>\n",
       "    <tr style=\"text-align: right;\">\n",
       "      <th></th>\n",
       "      <th>patient.age_at_initial_pathologic_diagnosis</th>\n",
       "      <th>patient.anatomic_neoplasm_subdivision</th>\n",
       "      <th>patient.days_to_death</th>\n",
       "      <th>patient.drugs.drug.therapy_types.therapy_type</th>\n",
       "      <th>patient.follow_ups.follow_up.person_neoplasm_cancer_status</th>\n",
       "      <th>patient.follow_ups.follow_up.radiation_therapy</th>\n",
       "      <th>patient.follow_ups.follow_up.vital_status</th>\n",
       "      <th>patient.initial_pathologic_diagnosis_method</th>\n",
       "      <th>patient.karnofsky_performance_score</th>\n",
       "      <th>patient.neoplasm_histologic_grade</th>\n",
       "      <th>patient.person_neoplasm_cancer_status</th>\n",
       "      <th>patient.race_list.race</th>\n",
       "      <th>patient.stage_event.clinical_stage</th>\n",
       "      <th>patient.tumor_residual_disease</th>\n",
       "      <th>patient.vital_status</th>\n",
       "    </tr>\n",
       "  </thead>\n",
       "  <tbody>\n",
       "    <tr>\n",
       "      <th>TCGA-23-1122</th>\n",
       "      <td>72</td>\n",
       "      <td>Bilateral</td>\n",
       "      <td>Not Applicable</td>\n",
       "      <td>Chemotherapy</td>\n",
       "      <td>TUMOR FREE</td>\n",
       "      <td>NO</td>\n",
       "      <td>Alive</td>\n",
       "      <td>Tumor resection</td>\n",
       "      <td>Not Available</td>\n",
       "      <td>G3</td>\n",
       "      <td>TUMOR FREE</td>\n",
       "      <td>WHITE</td>\n",
       "      <td>Stage IIIC</td>\n",
       "      <td>1-10 mm</td>\n",
       "      <td>Alive</td>\n",
       "    </tr>\n",
       "    <tr>\n",
       "      <th>TCGA-04-1365</th>\n",
       "      <td>70</td>\n",
       "      <td>Bilateral</td>\n",
       "      <td>Not Applicable</td>\n",
       "      <td>Chemotherapy</td>\n",
       "      <td>WITH TUMOR</td>\n",
       "      <td>NO</td>\n",
       "      <td>Alive; Dead</td>\n",
       "      <td>Tumor resection</td>\n",
       "      <td>80</td>\n",
       "      <td>G2</td>\n",
       "      <td>WITH TUMOR</td>\n",
       "      <td>WHITE</td>\n",
       "      <td>Stage IIIC</td>\n",
       "      <td>Not Available</td>\n",
       "      <td>Alive</td>\n",
       "    </tr>\n",
       "    <tr>\n",
       "      <th>TCGA-24-1847</th>\n",
       "      <td>49</td>\n",
       "      <td>Bilateral</td>\n",
       "      <td>Not Applicable</td>\n",
       "      <td>Chemotherapy</td>\n",
       "      <td>TUMOR FREE</td>\n",
       "      <td>NO</td>\n",
       "      <td>Alive; Alive</td>\n",
       "      <td>Tumor resection</td>\n",
       "      <td>Not Available</td>\n",
       "      <td>G3</td>\n",
       "      <td>TUMOR FREE</td>\n",
       "      <td>WHITE</td>\n",
       "      <td>Stage IIIC</td>\n",
       "      <td>No Macroscopic disease</td>\n",
       "      <td>Alive</td>\n",
       "    </tr>\n",
       "    <tr>\n",
       "      <th>TCGA-24-2033</th>\n",
       "      <td>76</td>\n",
       "      <td>Bilateral</td>\n",
       "      <td>1278</td>\n",
       "      <td>Chemotherapy</td>\n",
       "      <td>WITH TUMOR</td>\n",
       "      <td>NO</td>\n",
       "      <td>Dead</td>\n",
       "      <td>Tumor resection</td>\n",
       "      <td>Not Available</td>\n",
       "      <td>G3</td>\n",
       "      <td>WITH TUMOR</td>\n",
       "      <td>WHITE</td>\n",
       "      <td>Stage IIIC</td>\n",
       "      <td>No Macroscopic disease</td>\n",
       "      <td>Dead</td>\n",
       "    </tr>\n",
       "    <tr>\n",
       "      <th>TCGA-09-2056</th>\n",
       "      <td>57</td>\n",
       "      <td>Bilateral</td>\n",
       "      <td>1324</td>\n",
       "      <td>Chemotherapy</td>\n",
       "      <td>WITH TUMOR</td>\n",
       "      <td>NO</td>\n",
       "      <td>Dead</td>\n",
       "      <td>Tumor resection</td>\n",
       "      <td>Not Available</td>\n",
       "      <td>G3</td>\n",
       "      <td>WITH TUMOR</td>\n",
       "      <td>WHITE</td>\n",
       "      <td>Stage IIIC</td>\n",
       "      <td>1-10 mm</td>\n",
       "      <td>Dead</td>\n",
       "    </tr>\n",
       "    <tr>\n",
       "      <th>...</th>\n",
       "      <td>...</td>\n",
       "      <td>...</td>\n",
       "      <td>...</td>\n",
       "      <td>...</td>\n",
       "      <td>...</td>\n",
       "      <td>...</td>\n",
       "      <td>...</td>\n",
       "      <td>...</td>\n",
       "      <td>...</td>\n",
       "      <td>...</td>\n",
       "      <td>...</td>\n",
       "      <td>...</td>\n",
       "      <td>...</td>\n",
       "      <td>...</td>\n",
       "      <td>...</td>\n",
       "    </tr>\n",
       "    <tr>\n",
       "      <th>TCGA-20-0991</th>\n",
       "      <td>60</td>\n",
       "      <td>Bilateral</td>\n",
       "      <td>Not Applicable</td>\n",
       "      <td>Chemotherapy</td>\n",
       "      <td>WITH TUMOR</td>\n",
       "      <td>NO</td>\n",
       "      <td>Alive; Dead</td>\n",
       "      <td>Cytology (e.g. Peritoneal or pleural fluid)</td>\n",
       "      <td>80</td>\n",
       "      <td>G2</td>\n",
       "      <td>WITH TUMOR</td>\n",
       "      <td>WHITE</td>\n",
       "      <td>Stage IIIC</td>\n",
       "      <td>1-10 mm</td>\n",
       "      <td>Alive</td>\n",
       "    </tr>\n",
       "    <tr>\n",
       "      <th>TCGA-25-2400</th>\n",
       "      <td>50</td>\n",
       "      <td>Bilateral</td>\n",
       "      <td>Not Applicable</td>\n",
       "      <td>Chemotherapy</td>\n",
       "      <td>WITH TUMOR</td>\n",
       "      <td>NO</td>\n",
       "      <td>Alive</td>\n",
       "      <td>Tumor resection</td>\n",
       "      <td>Not Available</td>\n",
       "      <td>G3</td>\n",
       "      <td>WITH TUMOR</td>\n",
       "      <td>WHITE</td>\n",
       "      <td>Stage IV</td>\n",
       "      <td>&gt;20 mm</td>\n",
       "      <td>Alive</td>\n",
       "    </tr>\n",
       "    <tr>\n",
       "      <th>TCGA-25-1319</th>\n",
       "      <td>34</td>\n",
       "      <td>Bilateral</td>\n",
       "      <td>Not Applicable</td>\n",
       "      <td>Chemotherapy</td>\n",
       "      <td>TUMOR FREE</td>\n",
       "      <td>NO</td>\n",
       "      <td>Alive</td>\n",
       "      <td>Tumor resection</td>\n",
       "      <td>Not Available</td>\n",
       "      <td>G3</td>\n",
       "      <td>TUMOR FREE</td>\n",
       "      <td>WHITE</td>\n",
       "      <td>Stage IV</td>\n",
       "      <td>1-10 mm</td>\n",
       "      <td>Alive</td>\n",
       "    </tr>\n",
       "    <tr>\n",
       "      <th>TCGA-24-1104</th>\n",
       "      <td>62</td>\n",
       "      <td>Bilateral</td>\n",
       "      <td>949</td>\n",
       "      <td>Chemotherapy</td>\n",
       "      <td>WITH TUMOR</td>\n",
       "      <td>NO</td>\n",
       "      <td>Dead</td>\n",
       "      <td>Tumor resection</td>\n",
       "      <td>Not Available</td>\n",
       "      <td>G3</td>\n",
       "      <td>WITH TUMOR</td>\n",
       "      <td>WHITE</td>\n",
       "      <td>Stage IIIC</td>\n",
       "      <td>&gt;20 mm</td>\n",
       "      <td>Dead</td>\n",
       "    </tr>\n",
       "    <tr>\n",
       "      <th>TCGA-23-1120</th>\n",
       "      <td>71</td>\n",
       "      <td>Bilateral</td>\n",
       "      <td>821</td>\n",
       "      <td>Chemotherapy</td>\n",
       "      <td>WITH TUMOR</td>\n",
       "      <td>NO</td>\n",
       "      <td>Dead</td>\n",
       "      <td>Tumor resection</td>\n",
       "      <td>Not Available</td>\n",
       "      <td>G3</td>\n",
       "      <td>WITH TUMOR</td>\n",
       "      <td>WHITE</td>\n",
       "      <td>Stage IV</td>\n",
       "      <td>1-10 mm</td>\n",
       "      <td>Dead</td>\n",
       "    </tr>\n",
       "  </tbody>\n",
       "</table>\n",
       "<p>376 rows × 15 columns</p>\n",
       "</div>"
      ],
      "text/plain": [
       "             patient.age_at_initial_pathologic_diagnosis  \\\n",
       "TCGA-23-1122                                          72   \n",
       "TCGA-04-1365                                          70   \n",
       "TCGA-24-1847                                          49   \n",
       "TCGA-24-2033                                          76   \n",
       "TCGA-09-2056                                          57   \n",
       "...                                                  ...   \n",
       "TCGA-20-0991                                          60   \n",
       "TCGA-25-2400                                          50   \n",
       "TCGA-25-1319                                          34   \n",
       "TCGA-24-1104                                          62   \n",
       "TCGA-23-1120                                          71   \n",
       "\n",
       "             patient.anatomic_neoplasm_subdivision patient.days_to_death  \\\n",
       "TCGA-23-1122                             Bilateral        Not Applicable   \n",
       "TCGA-04-1365                             Bilateral        Not Applicable   \n",
       "TCGA-24-1847                             Bilateral        Not Applicable   \n",
       "TCGA-24-2033                             Bilateral                  1278   \n",
       "TCGA-09-2056                             Bilateral                  1324   \n",
       "...                                            ...                   ...   \n",
       "TCGA-20-0991                             Bilateral        Not Applicable   \n",
       "TCGA-25-2400                             Bilateral        Not Applicable   \n",
       "TCGA-25-1319                             Bilateral        Not Applicable   \n",
       "TCGA-24-1104                             Bilateral                   949   \n",
       "TCGA-23-1120                             Bilateral                   821   \n",
       "\n",
       "             patient.drugs.drug.therapy_types.therapy_type  \\\n",
       "TCGA-23-1122                                  Chemotherapy   \n",
       "TCGA-04-1365                                  Chemotherapy   \n",
       "TCGA-24-1847                                  Chemotherapy   \n",
       "TCGA-24-2033                                  Chemotherapy   \n",
       "TCGA-09-2056                                  Chemotherapy   \n",
       "...                                                    ...   \n",
       "TCGA-20-0991                                  Chemotherapy   \n",
       "TCGA-25-2400                                  Chemotherapy   \n",
       "TCGA-25-1319                                  Chemotherapy   \n",
       "TCGA-24-1104                                  Chemotherapy   \n",
       "TCGA-23-1120                                  Chemotherapy   \n",
       "\n",
       "             patient.follow_ups.follow_up.person_neoplasm_cancer_status  \\\n",
       "TCGA-23-1122                                         TUMOR FREE           \n",
       "TCGA-04-1365                                         WITH TUMOR           \n",
       "TCGA-24-1847                                         TUMOR FREE           \n",
       "TCGA-24-2033                                         WITH TUMOR           \n",
       "TCGA-09-2056                                         WITH TUMOR           \n",
       "...                                                         ...           \n",
       "TCGA-20-0991                                         WITH TUMOR           \n",
       "TCGA-25-2400                                         WITH TUMOR           \n",
       "TCGA-25-1319                                         TUMOR FREE           \n",
       "TCGA-24-1104                                         WITH TUMOR           \n",
       "TCGA-23-1120                                         WITH TUMOR           \n",
       "\n",
       "             patient.follow_ups.follow_up.radiation_therapy  \\\n",
       "TCGA-23-1122                                             NO   \n",
       "TCGA-04-1365                                             NO   \n",
       "TCGA-24-1847                                             NO   \n",
       "TCGA-24-2033                                             NO   \n",
       "TCGA-09-2056                                             NO   \n",
       "...                                                     ...   \n",
       "TCGA-20-0991                                             NO   \n",
       "TCGA-25-2400                                             NO   \n",
       "TCGA-25-1319                                             NO   \n",
       "TCGA-24-1104                                             NO   \n",
       "TCGA-23-1120                                             NO   \n",
       "\n",
       "             patient.follow_ups.follow_up.vital_status  \\\n",
       "TCGA-23-1122                                     Alive   \n",
       "TCGA-04-1365                               Alive; Dead   \n",
       "TCGA-24-1847                              Alive; Alive   \n",
       "TCGA-24-2033                                      Dead   \n",
       "TCGA-09-2056                                      Dead   \n",
       "...                                                ...   \n",
       "TCGA-20-0991                               Alive; Dead   \n",
       "TCGA-25-2400                                     Alive   \n",
       "TCGA-25-1319                                     Alive   \n",
       "TCGA-24-1104                                      Dead   \n",
       "TCGA-23-1120                                      Dead   \n",
       "\n",
       "              patient.initial_pathologic_diagnosis_method  \\\n",
       "TCGA-23-1122                              Tumor resection   \n",
       "TCGA-04-1365                              Tumor resection   \n",
       "TCGA-24-1847                              Tumor resection   \n",
       "TCGA-24-2033                              Tumor resection   \n",
       "TCGA-09-2056                              Tumor resection   \n",
       "...                                                   ...   \n",
       "TCGA-20-0991  Cytology (e.g. Peritoneal or pleural fluid)   \n",
       "TCGA-25-2400                              Tumor resection   \n",
       "TCGA-25-1319                              Tumor resection   \n",
       "TCGA-24-1104                              Tumor resection   \n",
       "TCGA-23-1120                              Tumor resection   \n",
       "\n",
       "             patient.karnofsky_performance_score  \\\n",
       "TCGA-23-1122                       Not Available   \n",
       "TCGA-04-1365                                  80   \n",
       "TCGA-24-1847                       Not Available   \n",
       "TCGA-24-2033                       Not Available   \n",
       "TCGA-09-2056                       Not Available   \n",
       "...                                          ...   \n",
       "TCGA-20-0991                                  80   \n",
       "TCGA-25-2400                       Not Available   \n",
       "TCGA-25-1319                       Not Available   \n",
       "TCGA-24-1104                       Not Available   \n",
       "TCGA-23-1120                       Not Available   \n",
       "\n",
       "             patient.neoplasm_histologic_grade  \\\n",
       "TCGA-23-1122                                G3   \n",
       "TCGA-04-1365                                G2   \n",
       "TCGA-24-1847                                G3   \n",
       "TCGA-24-2033                                G3   \n",
       "TCGA-09-2056                                G3   \n",
       "...                                        ...   \n",
       "TCGA-20-0991                                G2   \n",
       "TCGA-25-2400                                G3   \n",
       "TCGA-25-1319                                G3   \n",
       "TCGA-24-1104                                G3   \n",
       "TCGA-23-1120                                G3   \n",
       "\n",
       "             patient.person_neoplasm_cancer_status patient.race_list.race  \\\n",
       "TCGA-23-1122                            TUMOR FREE                  WHITE   \n",
       "TCGA-04-1365                            WITH TUMOR                  WHITE   \n",
       "TCGA-24-1847                            TUMOR FREE                  WHITE   \n",
       "TCGA-24-2033                            WITH TUMOR                  WHITE   \n",
       "TCGA-09-2056                            WITH TUMOR                  WHITE   \n",
       "...                                            ...                    ...   \n",
       "TCGA-20-0991                            WITH TUMOR                  WHITE   \n",
       "TCGA-25-2400                            WITH TUMOR                  WHITE   \n",
       "TCGA-25-1319                            TUMOR FREE                  WHITE   \n",
       "TCGA-24-1104                            WITH TUMOR                  WHITE   \n",
       "TCGA-23-1120                            WITH TUMOR                  WHITE   \n",
       "\n",
       "             patient.stage_event.clinical_stage  \\\n",
       "TCGA-23-1122                         Stage IIIC   \n",
       "TCGA-04-1365                         Stage IIIC   \n",
       "TCGA-24-1847                         Stage IIIC   \n",
       "TCGA-24-2033                         Stage IIIC   \n",
       "TCGA-09-2056                         Stage IIIC   \n",
       "...                                         ...   \n",
       "TCGA-20-0991                         Stage IIIC   \n",
       "TCGA-25-2400                           Stage IV   \n",
       "TCGA-25-1319                           Stage IV   \n",
       "TCGA-24-1104                         Stage IIIC   \n",
       "TCGA-23-1120                           Stage IV   \n",
       "\n",
       "             patient.tumor_residual_disease patient.vital_status  \n",
       "TCGA-23-1122                        1-10 mm                Alive  \n",
       "TCGA-04-1365                  Not Available                Alive  \n",
       "TCGA-24-1847         No Macroscopic disease                Alive  \n",
       "TCGA-24-2033         No Macroscopic disease                 Dead  \n",
       "TCGA-09-2056                        1-10 mm                 Dead  \n",
       "...                                     ...                  ...  \n",
       "TCGA-20-0991                        1-10 mm                Alive  \n",
       "TCGA-25-2400                         >20 mm                Alive  \n",
       "TCGA-25-1319                        1-10 mm                Alive  \n",
       "TCGA-24-1104                         >20 mm                 Dead  \n",
       "TCGA-23-1120                        1-10 mm                 Dead  \n",
       "\n",
       "[376 rows x 15 columns]"
      ]
     },
     "execution_count": 54,
     "metadata": {},
     "output_type": "execute_result"
    }
   ],
   "source": [
    "adata_mrna.obs"
   ]
  },
  {
   "cell_type": "code",
   "execution_count": 55,
   "metadata": {},
   "outputs": [
    {
     "name": "stdout",
     "output_type": "stream",
     "text": [
      "[Executed on 2024-01-17 14:48:56.376085]\n"
     ]
    }
   ],
   "source": [
    "adata_mrna.write_h5ad('/proj/sensoryaging/OC/TCGA_clinical+mrna_1.17.h5ad')"
   ]
  },
  {
   "cell_type": "code",
   "execution_count": null,
   "metadata": {},
   "outputs": [],
   "source": []
  }
 ],
 "metadata": {
  "kernelspec": {
   "display_name": "Kelly",
   "language": "python",
   "name": "python3"
  },
  "language_info": {
   "codemirror_mode": {
    "name": "ipython",
    "version": 3
   },
   "file_extension": ".py",
   "mimetype": "text/x-python",
   "name": "python",
   "nbconvert_exporter": "python",
   "pygments_lexer": "ipython3",
   "version": "3.11.6"
  }
 },
 "nbformat": 4,
 "nbformat_minor": 2
}
